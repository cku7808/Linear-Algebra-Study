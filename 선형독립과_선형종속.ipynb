{
  "nbformat": 4,
  "nbformat_minor": 0,
  "metadata": {
    "colab": {
      "provenance": [],
      "collapsed_sections": [],
      "authorship_tag": "ABX9TyOKhuOEtU/lMWfti/DLrMMe",
      "include_colab_link": true
    },
    "kernelspec": {
      "name": "python3",
      "display_name": "Python 3"
    },
    "language_info": {
      "name": "python"
    }
  },
  "cells": [
    {
      "cell_type": "markdown",
      "metadata": {
        "id": "view-in-github",
        "colab_type": "text"
      },
      "source": [
        "<a href=\"https://colab.research.google.com/github/cku7808/Linear-Algebra-Study/blob/main/%EC%84%A0%ED%98%95%EB%8F%85%EB%A6%BD%EA%B3%BC_%EC%84%A0%ED%98%95%EC%A2%85%EC%86%8D.ipynb\" target=\"_parent\"><img src=\"https://colab.research.google.com/assets/colab-badge.svg\" alt=\"Open In Colab\"/></a>"
      ]
    },
    {
      "cell_type": "markdown",
      "source": [
        "# **Linear Independence**"
      ],
      "metadata": {
        "id": "tRUL6uxS2uzw"
      }
    },
    {
      "cell_type": "markdown",
      "source": [
        "$a_1x_1 + a_2x_2 + a_3x_3 = b$ 일 때,  \n",
        "$a_1,a_2,a_3$으로 구성된 Span 안에 벡터 b가 존재한다면, 즉 $b \\in Span\\{a_1,a_2,a_3\\}$이면, 벡터방정식의 해가 존재한다.  \n",
        "그렇다면 이 벡터방정식의 해는 유일할까? 여러 개일까?  \n"
      ],
      "metadata": {
        "id": "3j8IhaTI5rip"
      }
    },
    {
      "cell_type": "markdown",
      "source": [
        "$b \\in \\{a_1,a_2,a_3\\}$를 만족하는 벡터방정식의 해가 여러 개라는 것은  \n",
        "$a_1,a_2,a_3$으로 구성된 Span으로 만들 수 있는 평행사변형의 형태가 여러 개 존재한다는 뜻, 선형 결합의 계수 $x_1,x_2,x_3$가 여러 개 존재한다는 의미."
      ],
      "metadata": {
        "id": "49wYt4BU62Ja"
      }
    },
    {
      "cell_type": "markdown",
      "source": [
        "# 선형 독립의 정의"
      ],
      "metadata": {
        "id": "-Pg8RYMB7dQ-"
      }
    },
    {
      "cell_type": "markdown",
      "source": [
        "**Practical한 정의**  \n",
        "p개의 벡터 $v_1, v_2, v_3, ... , v_p$가 주어졌을 때, 어떤 $v_j(j=1,...,p)$가 $Span\\{v_1,...,v_{j-1}\\}$에 포함되지 않는 경우, 벡터 $v_1, v_2, v_3,...,v_p$를 선형 독립이라고 한다.  \n",
        "  \n",
        "ex1) 어떠한 3차원 공간에 벡터 4개가 주어진다면, 이 4개의 벡터들을 확인하지 않아도 이들이 *선형 의존* 관계에 있음을 알 수 있다.  \n",
        "$v_1 = (1,0,0)$  \n",
        "$v_2 = (0,1,0)$  \n",
        "$v_3 = (0,0,1)$  \n",
        "위와 같이 벡터들이 구성되어 있다면 $v_4$는 절대 $Span\\{v_1,v_2,v_3\\}$을 벗어나지 않는다.  \n",
        "  \n",
        "ex2) 어떠한 3차원 공간에 벡터 2개가 주어진다면, 이 2개의 벡터들은 선형 독립일 수도 있고, 선형 의존일 수도 있다.  \n",
        "$v_1 = (1,0,0)$  \n",
        "위와 같이 벡터가 구성되어 있을 때, $v_2 = (2,0,0)$이라면, $v_2 \\in Span\\{v_1\\}$을 만족하므로 선형 의존 관계일 것이고, 이 경우 두 벡터가 선형 의존 관계이기 위해서는 $v_2$가 $v_1$의 상수 배여야 한다.   \n",
        "  \n",
        "$v_2 = (0,1,0)$이라면, $v_2 \\notin Span\\{v_1\\}$이므로 선형 독립 관계이다.  \n",
        "   \n",
        "또한, $v_1,v_2$가 선형 의존 관계이면 두 벡터가 같은 방향을 가리키기 때문에 차원이 확장되지 않는다. 즉 Span이 증가하지 않는다.  \n",
        "ex) $v_1 = (1,0,0) → x축 $  \n",
        "$v_2 = (2,0,0) → x축$\n",
        "\n",
        "그러나, $v_1, v_2$가 선형 독립 관계라면 두 벡터의 방향이 다르기 때문에 차원이 확장되고 Span이 증가한다.  \n",
        "ex) $v_1 = (1,0,0) → x축 $  \n",
        "$v_2 = (0,1,0) → y축$\n"
      ],
      "metadata": {
        "id": "hT84HNfs7gma"
      }
    },
    {
      "cell_type": "markdown",
      "source": [
        "**Formal한 정의**  \n",
        "벡터 방정식의 b가 zero 벡터라고 생각해보자.  \n",
        "$a_1x_1+a_2x_2+a_3x_3 = 0.$  \n",
        "우리는 이를 Homogeneous linear system이라고 부른다.  \n",
        "이 경우에도, $b \\in Span\\{a_1,a_2,a_3\\}$를 만족한다면 해가 존재할 것이다.  \n",
        "그런데 그 해가 유일할까? 혹은 여러개일까?  \n",
        "  \n",
        "$b= \\left[\n",
        "\\begin{array}{cc}\n",
        "   0 \\\\\n",
        "   0 \\\\\n",
        "   0 \\\\\n",
        "\\end{array}\n",
        "\\right] $ 이고,  \n",
        "모든 벡터들의 계수에 0을 대입함으로써 $b$를 만들어 낼 수 있으므로 $b$는 어떤 벡터의 Span에도 무조건 포함된다.  \n",
        "다시 말해, $x= \\left[\n",
        "\\begin{array}{cc}\n",
        "   0 \\\\\n",
        "   0 \\\\\n",
        "   0 \\\\\n",
        "\\end{array}\n",
        "\\right] $이면,  \n",
        "모든 벡터방정식에 대하여 최소한 하나의 해를 만들 수 있다. 그리고 이러한 zero 벡터 해를 trivial solution이라 부른다.  \n",
        "  \n",
        "벡터 $v_1,v_2,...,v_p$가 선형 독립이기 위해서는 주어진 벡터 방정식의 해가 trivial solution 뿐이어야한다.  \n",
        "반대로, 주어진 벡터 방정식이 trivial solution을 제외한 다른 하나의 해라도 더 갖는다면 선형 의존이다.  \n"
      ],
      "metadata": {
        "id": "eLAbcpDGAOgY"
      }
    },
    {
      "cell_type": "markdown",
      "source": [
        "# 정리"
      ],
      "metadata": {
        "id": "6GFLzEF4F37i"
      }
    },
    {
      "cell_type": "markdown",
      "source": [
        "벡터 방정식 $a_1x_1+a_2x_2+a_3x_3 = b$가 있고, $b$는 zero 벡터가 아니다.  \n",
        "이 경우에도, $b \\in Span\\{a_1,a_2,a_3\\}$를 만족하면 벡터 방정식의 해는 존재한다.  \n",
        "그러나, 이 벡터 방정식의 해도 여러 개 존재할 수 있을까?  \n",
        "  \n",
        "주어진 벡터 방정식이 Homogeneous linear system일 때, 재료벡터들이 선형 의존 관계이기 위해서는 nontrivial solution이 하나라도 존재해야 한다고 했다.  \n",
        "어찌되었든 zero 벡터의 한 요소라도 0이 아닌 해가 있으면 되는 것이기 때문에, zero 벡터에서 어떤 한 요소의 값을 무작위하게 바꾸었다고 가정해보자.  \n",
        "최종적으로 $b= \\left[\n",
        "\\begin{array}{cc}\n",
        "   0 \\\\\n",
        "   0 \\\\\n",
        "   0 \\\\\n",
        "\\end{array}\n",
        "\\right] $를 만족해야하기 때문에, 바뀌지 않은 다른 요소들은 이 벡터 방정식이 $\\left[\n",
        "\\begin{array}{cc}\n",
        "   0 \\\\\n",
        "   0 \\\\\n",
        "   0 \\\\\n",
        "\\end{array}\n",
        "\\right] $를 향하도록 조정되어야 하고, 이 경우의 수는 여러 개이다.  \n",
        "  \n",
        "이러한 사고를 $b$가 zero 벡터가 아닌 경우에도 적용해보자.  \n",
        "만약 벡터 방정식  $a_1x_1+a_2x_2+a_3x_3 = b$를 만족하는 어떠한 해 $x$가 있다고 해보자.  \n",
        "$x= \\left[\n",
        "\\begin{array}{cc}\n",
        "   3 \\\\\n",
        "   2 \\\\\n",
        "   1 \\\\\n",
        "\\end{array}\n",
        "\\right], $\n",
        "$ 3a_1+2a_2+1a_3 = b$일 때,  \n",
        "해 $x$를 통해 도달한 특정 지점 $b$에서 출발하여 다시 $b$로 이르게 되는 벡터의 경우의 수도 여러 개 존재할 수 있다. \n",
        "  \n",
        "결론적으로, 어떠한 벡터 방정식의 $b$가 zero 벡터이고, 해가 여러개 존재한다면, 그 벡터 방정식의 $b$가 zero 벡터가 아닌 다른 값이더라도 해가 여러개 존재한다."
      ],
      "metadata": {
        "id": "mln7Xzq1HNOf"
      }
    }
  ]
}
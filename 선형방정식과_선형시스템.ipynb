{
  "nbformat": 4,
  "nbformat_minor": 0,
  "metadata": {
    "colab": {
      "provenance": [],
      "collapsed_sections": [],
      "authorship_tag": "ABX9TyP4WkNx8zj00vuVmbCTiZbZ",
      "include_colab_link": true
    },
    "kernelspec": {
      "name": "python3",
      "display_name": "Python 3"
    },
    "language_info": {
      "name": "python"
    }
  },
  "cells": [
    {
      "cell_type": "markdown",
      "metadata": {
        "id": "view-in-github",
        "colab_type": "text"
      },
      "source": [
        "<a href=\"https://colab.research.google.com/github/cku7808/Linear-Algebra-Study/blob/main/%EC%84%A0%ED%98%95%EB%B0%A9%EC%A0%95%EC%8B%9D%EA%B3%BC_%EC%84%A0%ED%98%95%EC%8B%9C%EC%8A%A4%ED%85%9C.ipynb\" target=\"_parent\"><img src=\"https://colab.research.google.com/assets/colab-badge.svg\" alt=\"Open In Colab\"/></a>"
      ]
    },
    {
      "cell_type": "markdown",
      "source": [
        "# **220905 선형대수 강의 실습**"
      ],
      "metadata": {
        "id": "_ocDjGGn8ZVW"
      }
    },
    {
      "cell_type": "markdown",
      "source": [
        "# 선형대수의 기초"
      ],
      "metadata": {
        "id": "sG51IyCjACnV"
      }
    },
    {
      "cell_type": "code",
      "execution_count": 1,
      "metadata": {
        "id": "xQLT2E_h8NLJ"
      },
      "outputs": [],
      "source": [
        "import numpy as np"
      ]
    },
    {
      "cell_type": "markdown",
      "source": [
        "$ n\\times1 $의 행렬을 column vector라고 하고 row vector는 column vector에 transpose 취한 행렬이다"
      ],
      "metadata": {
        "id": "wdfiM3_0-_4m"
      }
    },
    {
      "cell_type": "code",
      "source": [
        "# column vector 생성\n",
        "c = np.array([1,2,3])\n",
        "print(c.shape)\n",
        "\n",
        "# 원소 접근\n",
        "print(c[1])"
      ],
      "metadata": {
        "colab": {
          "base_uri": "https://localhost:8080/"
        },
        "id": "j93m2HzK8qFd",
        "outputId": "19d8ba35-4b8c-4a49-ef11-8d3c7c0ca1d2"
      },
      "execution_count": 2,
      "outputs": [
        {
          "output_type": "stream",
          "name": "stdout",
          "text": [
            "(3,)\n",
            "2\n"
          ]
        }
      ]
    },
    {
      "cell_type": "code",
      "source": [
        "# row vector 생성\n",
        "r = np.array([[1,2,3]])\n",
        "print(r.shape)\n",
        "\n",
        "# 원소 접근\n",
        "print(r[0,1])"
      ],
      "metadata": {
        "colab": {
          "base_uri": "https://localhost:8080/"
        },
        "id": "qkObO0IV9cBF",
        "outputId": "6d274b2a-7183-48dc-a29f-41d0a4df77f7"
      },
      "execution_count": 3,
      "outputs": [
        {
          "output_type": "stream",
          "name": "stdout",
          "text": [
            "(1, 3)\n",
            "2\n"
          ]
        }
      ]
    },
    {
      "cell_type": "code",
      "source": [
        "# 0으로 구성된 2x2 행렬\n",
        "a = np.zeros((2,2))\n",
        "print(a)\n",
        "\n",
        "# 1으로 구성된 2x2 행렬\n",
        "b = np.ones((2,2))\n",
        "print(b)\n",
        "\n",
        "# 특정 값으로 구성된 2x2 행렬\n",
        "c = np.full((2,2),5)\n",
        "print(c)\n",
        "\n",
        "# 랜덤 값으로 구성된 2x2 행렬\n",
        "d = np.random.random((2,2))\n",
        "print(d)"
      ],
      "metadata": {
        "colab": {
          "base_uri": "https://localhost:8080/"
        },
        "id": "Vh4vVgZl9mSj",
        "outputId": "b1f8d6aa-4bb5-4257-cbb1-1e2abc844ae9"
      },
      "execution_count": 4,
      "outputs": [
        {
          "output_type": "stream",
          "name": "stdout",
          "text": [
            "[[0. 0.]\n",
            " [0. 0.]]\n",
            "[[1. 1.]\n",
            " [1. 1.]]\n",
            "[[5 5]\n",
            " [5 5]]\n",
            "[[0.46898855 0.34993121]\n",
            " [0.094716   0.21122027]]\n"
          ]
        }
      ]
    },
    {
      "cell_type": "code",
      "source": [
        "# 행렬 A 생성\n",
        "A = np.array([[1,2],[3,4],[5,6]])\n",
        "print(A)"
      ],
      "metadata": {
        "colab": {
          "base_uri": "https://localhost:8080/"
        },
        "id": "L3oELD9d-V-U",
        "outputId": "f41a1a04-e7ff-421f-8422-a3610c0bce6c"
      },
      "execution_count": 5,
      "outputs": [
        {
          "output_type": "stream",
          "name": "stdout",
          "text": [
            "[[1 2]\n",
            " [3 4]\n",
            " [5 6]]\n"
          ]
        }
      ]
    },
    {
      "cell_type": "code",
      "source": [
        "# 행렬 B 생성\n",
        "B = np.array([[11,12,13,14],[15,16,17,18]])\n",
        "print(B)"
      ],
      "metadata": {
        "colab": {
          "base_uri": "https://localhost:8080/"
        },
        "id": "JbX9WJJX-fOt",
        "outputId": "fff59963-5248-45c0-b156-510515cbf886"
      },
      "execution_count": 6,
      "outputs": [
        {
          "output_type": "stream",
          "name": "stdout",
          "text": [
            "[[11 12 13 14]\n",
            " [15 16 17 18]]\n"
          ]
        }
      ]
    },
    {
      "cell_type": "code",
      "source": [
        "# 행렬 A의 transpose\n",
        "A.T"
      ],
      "metadata": {
        "colab": {
          "base_uri": "https://localhost:8080/"
        },
        "id": "NqgDnRmA-oKE",
        "outputId": "0496235c-5265-4b8d-c0f8-dad0344dd4dd"
      },
      "execution_count": 7,
      "outputs": [
        {
          "output_type": "execute_result",
          "data": {
            "text/plain": [
              "array([[1, 3, 5],\n",
              "       [2, 4, 6]])"
            ]
          },
          "metadata": {},
          "execution_count": 7
        }
      ]
    },
    {
      "cell_type": "markdown",
      "source": [
        "행렬의 곱(dot product) A*B을 수행하기 위해서는 A의 column 개수 == B의 row 개수여야한다"
      ],
      "metadata": {
        "id": "_lIOlr_y_pwe"
      }
    },
    {
      "cell_type": "code",
      "source": [
        "# 행렬곱\n",
        "np.dot(A,B)"
      ],
      "metadata": {
        "colab": {
          "base_uri": "https://localhost:8080/"
        },
        "id": "VfnP7VOg-urL",
        "outputId": "fdfeb415-34c9-42c2-f8fb-3b52385045ee"
      },
      "execution_count": 8,
      "outputs": [
        {
          "output_type": "execute_result",
          "data": {
            "text/plain": [
              "array([[ 41,  44,  47,  50],\n",
              "       [ 93, 100, 107, 114],\n",
              "       [145, 156, 167, 178]])"
            ]
          },
          "metadata": {},
          "execution_count": 8
        }
      ]
    },
    {
      "cell_type": "markdown",
      "source": [
        "# 선형 방정식과 선형 시스템"
      ],
      "metadata": {
        "id": "zIYgyxcD_98z"
      }
    },
    {
      "cell_type": "markdown",
      "source": [
        "$a_1x_1 + a_2x_2 + a_3x_3 = b$\n",
        "의 형태를 띤 방정식을 선형 방정식이라 하고,  \n",
        "$a_1,a_2,a_3$을 계수라 한다."
      ],
      "metadata": {
        "id": "HtAV4i1DAR_u"
      }
    },
    {
      "cell_type": "markdown",
      "source": [
        "$60x_1 + 5.5x_2 + 1x_3 = 66$  \n",
        "$65x_1 + 5.0x_2 + 0x_3 = 74$  \n",
        "$55x_1 + 6.0x_2 + 1x_3 = 78$  \n",
        "위 세 선형 방정식을 만족하는 가중치 $x_1,x_2,x_3$을 구하고자 한다"
      ],
      "metadata": {
        "id": "qBF67iR2AtZv"
      }
    },
    {
      "cell_type": "markdown",
      "source": [
        "1. 계수 a로 이루어진 행렬 A를 구성  \n",
        "$A=\\begin{bmatrix}\n",
        "60 & 5.5 & 1\\\\\n",
        "65 & 5.0 & 0\\\\\n",
        "55 & 6.0 & 1\n",
        "\\end{bmatrix}\n",
        "$  \n",
        "2. 벡터 x와 벡터 b를 구성  \n",
        "$x=\\begin{bmatrix}\n",
        "x_1\\\\\n",
        "x_2\\\\\n",
        "x_3\n",
        "\\end{bmatrix}\n",
        "$ \n",
        "$b=\\begin{bmatrix}\n",
        "66\\\\\n",
        "74\\\\\n",
        "78\n",
        "\\end{bmatrix}\n",
        "$"
      ],
      "metadata": {
        "id": "qjfuemXRBbs9"
      }
    },
    {
      "cell_type": "markdown",
      "source": [
        "위의 세 선형방정식은 다음과 같이 표현될 수 있다.  \n",
        "$Ax = b$  \n",
        "$\\begin{bmatrix}\n",
        "60 & 5.5 & 1\\\\\n",
        "65 & 5.0 & 0\\\\\n",
        "55 & 6.0 & 1\n",
        "\\end{bmatrix}$\n",
        "$\\begin{bmatrix}\n",
        "x_1\\\\\n",
        "x_2\\\\\n",
        "x_3\n",
        "\\end{bmatrix}\n",
        "$\n",
        "$=\\begin{bmatrix}\n",
        "66\\\\\n",
        "74\\\\\n",
        "78\n",
        "\\end{bmatrix}\n",
        "$  \\\\\n",
        "또한 다음과 같이 표현할 수도 있다.  \n",
        "$a^T_1x = 66$  \n",
        "$a^T_2x = 74$  \n",
        "$a^T_3x = 78$\n"
      ],
      "metadata": {
        "id": "d1cjWhWPCM2V"
      }
    },
    {
      "cell_type": "code",
      "source": [
        "A = np.array([[60,5.5,1],[65,5.0,0],[55,6.0,1]])\n",
        "b = np.array([66,70,78])"
      ],
      "metadata": {
        "id": "9CRLHH1j-yVb"
      },
      "execution_count": 9,
      "outputs": []
    },
    {
      "cell_type": "code",
      "source": [
        "# 3x3 항등행렬 생성\n",
        "eye3 = np.eye(3)\n",
        "eye3"
      ],
      "metadata": {
        "colab": {
          "base_uri": "https://localhost:8080/"
        },
        "id": "eLcNGpwqFAJd",
        "outputId": "5fcad10f-7fb0-4de0-afce-d0093e3251db"
      },
      "execution_count": 10,
      "outputs": [
        {
          "output_type": "execute_result",
          "data": {
            "text/plain": [
              "array([[1., 0., 0.],\n",
              "       [0., 1., 0.],\n",
              "       [0., 0., 1.]])"
            ]
          },
          "metadata": {},
          "execution_count": 10
        }
      ]
    },
    {
      "cell_type": "markdown",
      "source": [
        "$x$는 $A$의 역행렬을 구함으로써 구할 수 있다.  \n",
        "$AA^{-1} = A^{-1}A = l_n$  \n",
        "양변에 $A^{-1}$을 곱해 $x$를 계산한다  \n",
        "$(1)\\quad A^{-1}Ax = bA^{-1}$  \n",
        "$(2)\\quad x = bA^{-1}$"
      ],
      "metadata": {
        "id": "nnMdPnGuFy0X"
      }
    },
    {
      "cell_type": "code",
      "source": [
        "# 행렬 A의 역행렬 구하기\n",
        "from numpy.linalg import inv\n",
        "A_inv = inv(A)\n",
        "A_inv"
      ],
      "metadata": {
        "colab": {
          "base_uri": "https://localhost:8080/"
        },
        "id": "TZdklpHLFvPE",
        "outputId": "105e1607-5b12-41b7-b6cd-8c1ed0ced599"
      },
      "execution_count": 11,
      "outputs": [
        {
          "output_type": "execute_result",
          "data": {
            "text/plain": [
              "array([[ 0.08695652,  0.00869565, -0.08695652],\n",
              "       [-1.13043478,  0.08695652,  1.13043478],\n",
              "       [ 2.        , -1.        , -1.        ]])"
            ]
          },
          "metadata": {},
          "execution_count": 11
        }
      ]
    },
    {
      "cell_type": "code",
      "source": [
        "A.dot(A_inv)"
      ],
      "metadata": {
        "colab": {
          "base_uri": "https://localhost:8080/"
        },
        "id": "V6_YDV3-GuxG",
        "outputId": "ea9c0f55-50bc-471d-d557-b4f8115d8e0a"
      },
      "execution_count": 12,
      "outputs": [
        {
          "output_type": "execute_result",
          "data": {
            "text/plain": [
              "array([[ 1.0000000e+00,  0.0000000e+00, -4.4408921e-16],\n",
              "       [ 8.8817842e-16,  1.0000000e+00, -8.8817842e-16],\n",
              "       [-8.8817842e-16,  0.0000000e+00,  1.0000000e+00]])"
            ]
          },
          "metadata": {},
          "execution_count": 12
        }
      ]
    },
    {
      "cell_type": "code",
      "source": [
        "# x 구하기 - 방법1\n",
        "x = A_inv.dot(b)\n",
        "x"
      ],
      "metadata": {
        "colab": {
          "base_uri": "https://localhost:8080/"
        },
        "id": "enl0_5hlGx5u",
        "outputId": "fd64b38d-1969-444a-8357-94909a7a4ed4"
      },
      "execution_count": 13,
      "outputs": [
        {
          "output_type": "execute_result",
          "data": {
            "text/plain": [
              "array([ -0.43478261,  19.65217391, -16.        ])"
            ]
          },
          "metadata": {},
          "execution_count": 13
        }
      ]
    },
    {
      "cell_type": "code",
      "source": [
        "# x 구하기 - 방법2\n",
        "from numpy.linalg import solve\n",
        "x = solve(A,b)\n",
        "x"
      ],
      "metadata": {
        "colab": {
          "base_uri": "https://localhost:8080/"
        },
        "id": "iEOYF4YPG49O",
        "outputId": "b3aa1b2e-a787-4b66-ec7b-2b7e8254d560"
      },
      "execution_count": 15,
      "outputs": [
        {
          "output_type": "execute_result",
          "data": {
            "text/plain": [
              "array([ -0.43478261,  19.65217391, -16.        ])"
            ]
          },
          "metadata": {},
          "execution_count": 15
        }
      ]
    }
  ]
}